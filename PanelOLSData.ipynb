{
 "cells": [
  {
   "cell_type": "code",
   "execution_count": null,
   "metadata": {},
   "outputs": [],
   "source": [
    "\"\"\"\n",
    "    Name: PanelOLSData\n",
    "    \n",
    "    Purpose: Create a panel dataframe in a usable format to tools such as PanelOLS from multiple\n",
    "             input files\n",
    "    \n",
    "    Version    Date          Description\n",
    "    V1.0:      01/17/2023    Initial release\n",
    "\"\"\""
   ]
  },
  {
   "cell_type": "code",
   "execution_count": null,
   "metadata": {},
   "outputs": [],
   "source": [
    "import pandas as pd\n",
    "import numpy as np\n",
    "import warnings\n",
    "warnings.filterwarnings('ignore')"
   ]
  },
  {
   "cell_type": "code",
   "execution_count": null,
   "metadata": {},
   "outputs": [],
   "source": [
    "\"\"\"\n",
    "    Inputs:\n",
    "            - new_data: df to be added or formated\n",
    "            - axis: 'x' for dfs with years arranged in columns, 'y' o.w.\n",
    "            - countrycol_name, yearcol_name, targetcol_name: names of respective columns in new_data\n",
    "            - dataset: optional paramenter used when you want to add to an existing output\n",
    "    Outputs:\n",
    "            - new_dataset: df formated and/or merged with new data\n",
    "\"\"\"\n",
    "def append_data(new_data, axis, countrycol_name, yearcol_name, targetcol_name, dataset = pd.DataFrame()):\n",
    "    miss_countries = []\n",
    "    if len(dataset) != 0:\n",
    "        new_dataset = dataset\n",
    "        new_dataset[targetcol_name] = np.nan\n",
    "    else:\n",
    "        print('Starting new dataset...')\n",
    "        new_dataset = pd.DataFrame()\n",
    "        countries = [country for country in new_data[countrycol_name].unique()]\n",
    "        if axis == 'x':\n",
    "            years = [year for year in new_data.columns if str(year).isnumeric()]\n",
    "        elif axis == 'y':\n",
    "            years = [year for year in new_data[yearcol_name].unique()]\n",
    "        i = 0\n",
    "        for country in countries:\n",
    "            for year in years:\n",
    "                new_dataset.loc[i, 'country'] = country\n",
    "                new_dataset.loc[i, 'year'] = year\n",
    "                i += 1\n",
    "    for country in new_dataset['country'].unique():\n",
    "        for year in new_dataset['year'].unique():\n",
    "            index = new_dataset[new_dataset.year == year][new_dataset.country == country].index\n",
    "            if axis == 'x':\n",
    "                new_data_filt = new_data[new_data[countrycol_name] == country]\n",
    "                if len(new_data_filt) > 0:\n",
    "                    new_data_filt = new_data_filt[str(int(year))]\n",
    "                    new_dataset.loc[index, targetcol_name] = new_data_filt[new_data_filt.index[0]]\n",
    "                else: miss_countries.append(country)\n",
    "            elif axis == 'y':\n",
    "                new_data_filt = new_data[new_data[countrycol_name] == country][new_data[yearcol_name] == year]\n",
    "                if len(new_data_filt) > 0:\n",
    "                    new_dataset.loc[index, targetcol_name] = new_data_filt[targetcol_name][new_data_filt.index[0]]\n",
    "                else: miss_countries.append(country)\n",
    "        print('-', end = '')\n",
    "    print('\\nThere were missed samples in due to names miss matching or missing years in the ' + \n",
    "          'following countries:\\n' + str(set(miss_countries)))\n",
    "    return new_dataset\n",
    "\n",
    "\"\"\"\n",
    "    Inputs:\n",
    "            - data_df: df with country names or codes in a column\n",
    "            - countrycol: countries column name\n",
    "            - codetype: 'Alpha-2 code', 'Alpha-3 code' or 'Numeric'\n",
    "    Outputs:\n",
    "            - merged_df: df formated and/or merged with new data\n",
    "\"\"\"\n",
    "def add_countrycol(data_df, countrycol, codetype, countrycodes_df):\n",
    "    for code_type in countrycodes_df.columns:\n",
    "        if codetype in code_type:\n",
    "            data_df = data_df.rename(columns={countrycol: code_type})\n",
    "            merged_df = pd.merge(data_df, countrycodes_df, on=[code_type])\n",
    "            return merged_df\n",
    "    return 'Wrong call'"
   ]
  }
 ],
 "metadata": {
  "kernelspec": {
   "display_name": "Python 3",
   "language": "python",
   "name": "python3"
  },
  "language_info": {
   "codemirror_mode": {
    "name": "ipython",
    "version": 3
   },
   "file_extension": ".py",
   "mimetype": "text/x-python",
   "name": "python",
   "nbconvert_exporter": "python",
   "pygments_lexer": "ipython3",
   "version": "3.7.6"
  }
 },
 "nbformat": 4,
 "nbformat_minor": 4
}
